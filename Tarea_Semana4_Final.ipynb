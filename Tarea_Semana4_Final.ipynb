{
 "cells": [
  {
   "cell_type": "markdown",
   "id": "98c645fc",
   "metadata": {},
   "source": [
    "## S4- CASO PRACTICO-BDD FINAL"
   ]
  },
  {
   "cell_type": "markdown",
   "id": "5c3023dc",
   "metadata": {},
   "source": [
    "### 1. Importe la base de datos a una base en Jupyter Notebook con pandas. "
   ]
  },
  {
   "cell_type": "code",
   "execution_count": 2,
   "id": "c1616924",
   "metadata": {},
   "outputs": [],
   "source": [
    "import numpy as np\n",
    "import pandas as pd\n",
    "import matplotlib.pyplot as plt\n",
    "import warnings\n",
    "import seaborn as sns\n",
    "warnings.filterwarnings(\"ignore\")\n",
    "import statsmodels.api as sm\n",
    "import statsmodels.formula.api as sms"
   ]
  },
  {
   "cell_type": "code",
   "execution_count": 3,
   "id": "ee5a38d5",
   "metadata": {
    "scrolled": true
   },
   "outputs": [
    {
     "data": {
      "text/html": [
       "<div>\n",
       "<style scoped>\n",
       "    .dataframe tbody tr th:only-of-type {\n",
       "        vertical-align: middle;\n",
       "    }\n",
       "\n",
       "    .dataframe tbody tr th {\n",
       "        vertical-align: top;\n",
       "    }\n",
       "\n",
       "    .dataframe thead th {\n",
       "        text-align: right;\n",
       "    }\n",
       "</style>\n",
       "<table border=\"1\" class=\"dataframe\">\n",
       "  <thead>\n",
       "    <tr style=\"text-align: right;\">\n",
       "      <th></th>\n",
       "      <th>Store</th>\n",
       "      <th>Date</th>\n",
       "      <th>Weekly_Sales</th>\n",
       "      <th>Holiday_Flag</th>\n",
       "      <th>Temperature</th>\n",
       "      <th>Fuel_Price</th>\n",
       "      <th>CPI</th>\n",
       "      <th>Unemployment</th>\n",
       "    </tr>\n",
       "  </thead>\n",
       "  <tbody>\n",
       "    <tr>\n",
       "      <th>0</th>\n",
       "      <td>1</td>\n",
       "      <td>05-02-2010</td>\n",
       "      <td>1643690.90</td>\n",
       "      <td>0</td>\n",
       "      <td>42.31</td>\n",
       "      <td>2.572</td>\n",
       "      <td>211.096358</td>\n",
       "      <td>8.106</td>\n",
       "    </tr>\n",
       "    <tr>\n",
       "      <th>1</th>\n",
       "      <td>1</td>\n",
       "      <td>12-02-2010</td>\n",
       "      <td>1641957.44</td>\n",
       "      <td>1</td>\n",
       "      <td>38.51</td>\n",
       "      <td>2.548</td>\n",
       "      <td>211.242170</td>\n",
       "      <td>8.106</td>\n",
       "    </tr>\n",
       "    <tr>\n",
       "      <th>2</th>\n",
       "      <td>1</td>\n",
       "      <td>19-02-2010</td>\n",
       "      <td>1611968.17</td>\n",
       "      <td>0</td>\n",
       "      <td>39.93</td>\n",
       "      <td>2.514</td>\n",
       "      <td>211.289143</td>\n",
       "      <td>8.106</td>\n",
       "    </tr>\n",
       "    <tr>\n",
       "      <th>3</th>\n",
       "      <td>1</td>\n",
       "      <td>26-02-2010</td>\n",
       "      <td>1409727.59</td>\n",
       "      <td>0</td>\n",
       "      <td>46.63</td>\n",
       "      <td>2.561</td>\n",
       "      <td>211.319643</td>\n",
       "      <td>8.106</td>\n",
       "    </tr>\n",
       "    <tr>\n",
       "      <th>4</th>\n",
       "      <td>1</td>\n",
       "      <td>05-03-2010</td>\n",
       "      <td>1554806.68</td>\n",
       "      <td>0</td>\n",
       "      <td>46.50</td>\n",
       "      <td>2.625</td>\n",
       "      <td>211.350143</td>\n",
       "      <td>8.106</td>\n",
       "    </tr>\n",
       "    <tr>\n",
       "      <th>...</th>\n",
       "      <td>...</td>\n",
       "      <td>...</td>\n",
       "      <td>...</td>\n",
       "      <td>...</td>\n",
       "      <td>...</td>\n",
       "      <td>...</td>\n",
       "      <td>...</td>\n",
       "      <td>...</td>\n",
       "    </tr>\n",
       "    <tr>\n",
       "      <th>6430</th>\n",
       "      <td>45</td>\n",
       "      <td>28-09-2012</td>\n",
       "      <td>713173.95</td>\n",
       "      <td>0</td>\n",
       "      <td>64.88</td>\n",
       "      <td>3.997</td>\n",
       "      <td>192.013558</td>\n",
       "      <td>8.684</td>\n",
       "    </tr>\n",
       "    <tr>\n",
       "      <th>6431</th>\n",
       "      <td>45</td>\n",
       "      <td>05-10-2012</td>\n",
       "      <td>733455.07</td>\n",
       "      <td>0</td>\n",
       "      <td>64.89</td>\n",
       "      <td>3.985</td>\n",
       "      <td>192.170412</td>\n",
       "      <td>8.667</td>\n",
       "    </tr>\n",
       "    <tr>\n",
       "      <th>6432</th>\n",
       "      <td>45</td>\n",
       "      <td>12-10-2012</td>\n",
       "      <td>734464.36</td>\n",
       "      <td>0</td>\n",
       "      <td>54.47</td>\n",
       "      <td>4.000</td>\n",
       "      <td>192.327265</td>\n",
       "      <td>8.667</td>\n",
       "    </tr>\n",
       "    <tr>\n",
       "      <th>6433</th>\n",
       "      <td>45</td>\n",
       "      <td>19-10-2012</td>\n",
       "      <td>718125.53</td>\n",
       "      <td>0</td>\n",
       "      <td>56.47</td>\n",
       "      <td>3.969</td>\n",
       "      <td>192.330854</td>\n",
       "      <td>8.667</td>\n",
       "    </tr>\n",
       "    <tr>\n",
       "      <th>6434</th>\n",
       "      <td>45</td>\n",
       "      <td>26-10-2012</td>\n",
       "      <td>760281.43</td>\n",
       "      <td>0</td>\n",
       "      <td>58.85</td>\n",
       "      <td>3.882</td>\n",
       "      <td>192.308899</td>\n",
       "      <td>8.667</td>\n",
       "    </tr>\n",
       "  </tbody>\n",
       "</table>\n",
       "<p>6435 rows × 8 columns</p>\n",
       "</div>"
      ],
      "text/plain": [
       "      Store        Date  Weekly_Sales  Holiday_Flag  Temperature  Fuel_Price  \\\n",
       "0         1  05-02-2010    1643690.90             0        42.31       2.572   \n",
       "1         1  12-02-2010    1641957.44             1        38.51       2.548   \n",
       "2         1  19-02-2010    1611968.17             0        39.93       2.514   \n",
       "3         1  26-02-2010    1409727.59             0        46.63       2.561   \n",
       "4         1  05-03-2010    1554806.68             0        46.50       2.625   \n",
       "...     ...         ...           ...           ...          ...         ...   \n",
       "6430     45  28-09-2012     713173.95             0        64.88       3.997   \n",
       "6431     45  05-10-2012     733455.07             0        64.89       3.985   \n",
       "6432     45  12-10-2012     734464.36             0        54.47       4.000   \n",
       "6433     45  19-10-2012     718125.53             0        56.47       3.969   \n",
       "6434     45  26-10-2012     760281.43             0        58.85       3.882   \n",
       "\n",
       "             CPI  Unemployment  \n",
       "0     211.096358         8.106  \n",
       "1     211.242170         8.106  \n",
       "2     211.289143         8.106  \n",
       "3     211.319643         8.106  \n",
       "4     211.350143         8.106  \n",
       "...          ...           ...  \n",
       "6430  192.013558         8.684  \n",
       "6431  192.170412         8.667  \n",
       "6432  192.327265         8.667  \n",
       "6433  192.330854         8.667  \n",
       "6434  192.308899         8.667  \n",
       "\n",
       "[6435 rows x 8 columns]"
      ]
     },
     "execution_count": 3,
     "metadata": {},
     "output_type": "execute_result"
    }
   ],
   "source": [
    "df=pd.read_csv(\"wallmart.csv\")\n",
    "df"
   ]
  },
  {
   "cell_type": "markdown",
   "id": "aa39f401",
   "metadata": {},
   "source": [
    "Como podemos observar la base de datos contiene 6435 observaciones de propiedades y un total de 8 columnas que representan los atributos o características de cada fila."
   ]
  },
  {
   "cell_type": "markdown",
   "id": "894b8409",
   "metadata": {},
   "source": [
    "Dado que el análisis se realizará en español, se procede a recodificar los nombres de las columnas:"
   ]
  },
  {
   "cell_type": "code",
   "execution_count": 4,
   "id": "25a4e70a",
   "metadata": {},
   "outputs": [
    {
     "data": {
      "text/html": [
       "<div>\n",
       "<style scoped>\n",
       "    .dataframe tbody tr th:only-of-type {\n",
       "        vertical-align: middle;\n",
       "    }\n",
       "\n",
       "    .dataframe tbody tr th {\n",
       "        vertical-align: top;\n",
       "    }\n",
       "\n",
       "    .dataframe thead th {\n",
       "        text-align: right;\n",
       "    }\n",
       "</style>\n",
       "<table border=\"1\" class=\"dataframe\">\n",
       "  <thead>\n",
       "    <tr style=\"text-align: right;\">\n",
       "      <th></th>\n",
       "      <th>tienda</th>\n",
       "      <th>fecha</th>\n",
       "      <th>ventas</th>\n",
       "      <th>festivos</th>\n",
       "      <th>temperatura</th>\n",
       "      <th>costoCombustible</th>\n",
       "      <th>IPC</th>\n",
       "      <th>desempleo</th>\n",
       "    </tr>\n",
       "  </thead>\n",
       "  <tbody>\n",
       "    <tr>\n",
       "      <th>0</th>\n",
       "      <td>1</td>\n",
       "      <td>05-02-2010</td>\n",
       "      <td>1643690.90</td>\n",
       "      <td>0</td>\n",
       "      <td>42.31</td>\n",
       "      <td>2.572</td>\n",
       "      <td>211.096358</td>\n",
       "      <td>8.106</td>\n",
       "    </tr>\n",
       "    <tr>\n",
       "      <th>1</th>\n",
       "      <td>1</td>\n",
       "      <td>12-02-2010</td>\n",
       "      <td>1641957.44</td>\n",
       "      <td>1</td>\n",
       "      <td>38.51</td>\n",
       "      <td>2.548</td>\n",
       "      <td>211.242170</td>\n",
       "      <td>8.106</td>\n",
       "    </tr>\n",
       "    <tr>\n",
       "      <th>2</th>\n",
       "      <td>1</td>\n",
       "      <td>19-02-2010</td>\n",
       "      <td>1611968.17</td>\n",
       "      <td>0</td>\n",
       "      <td>39.93</td>\n",
       "      <td>2.514</td>\n",
       "      <td>211.289143</td>\n",
       "      <td>8.106</td>\n",
       "    </tr>\n",
       "    <tr>\n",
       "      <th>3</th>\n",
       "      <td>1</td>\n",
       "      <td>26-02-2010</td>\n",
       "      <td>1409727.59</td>\n",
       "      <td>0</td>\n",
       "      <td>46.63</td>\n",
       "      <td>2.561</td>\n",
       "      <td>211.319643</td>\n",
       "      <td>8.106</td>\n",
       "    </tr>\n",
       "    <tr>\n",
       "      <th>4</th>\n",
       "      <td>1</td>\n",
       "      <td>05-03-2010</td>\n",
       "      <td>1554806.68</td>\n",
       "      <td>0</td>\n",
       "      <td>46.50</td>\n",
       "      <td>2.625</td>\n",
       "      <td>211.350143</td>\n",
       "      <td>8.106</td>\n",
       "    </tr>\n",
       "    <tr>\n",
       "      <th>...</th>\n",
       "      <td>...</td>\n",
       "      <td>...</td>\n",
       "      <td>...</td>\n",
       "      <td>...</td>\n",
       "      <td>...</td>\n",
       "      <td>...</td>\n",
       "      <td>...</td>\n",
       "      <td>...</td>\n",
       "    </tr>\n",
       "    <tr>\n",
       "      <th>6430</th>\n",
       "      <td>45</td>\n",
       "      <td>28-09-2012</td>\n",
       "      <td>713173.95</td>\n",
       "      <td>0</td>\n",
       "      <td>64.88</td>\n",
       "      <td>3.997</td>\n",
       "      <td>192.013558</td>\n",
       "      <td>8.684</td>\n",
       "    </tr>\n",
       "    <tr>\n",
       "      <th>6431</th>\n",
       "      <td>45</td>\n",
       "      <td>05-10-2012</td>\n",
       "      <td>733455.07</td>\n",
       "      <td>0</td>\n",
       "      <td>64.89</td>\n",
       "      <td>3.985</td>\n",
       "      <td>192.170412</td>\n",
       "      <td>8.667</td>\n",
       "    </tr>\n",
       "    <tr>\n",
       "      <th>6432</th>\n",
       "      <td>45</td>\n",
       "      <td>12-10-2012</td>\n",
       "      <td>734464.36</td>\n",
       "      <td>0</td>\n",
       "      <td>54.47</td>\n",
       "      <td>4.000</td>\n",
       "      <td>192.327265</td>\n",
       "      <td>8.667</td>\n",
       "    </tr>\n",
       "    <tr>\n",
       "      <th>6433</th>\n",
       "      <td>45</td>\n",
       "      <td>19-10-2012</td>\n",
       "      <td>718125.53</td>\n",
       "      <td>0</td>\n",
       "      <td>56.47</td>\n",
       "      <td>3.969</td>\n",
       "      <td>192.330854</td>\n",
       "      <td>8.667</td>\n",
       "    </tr>\n",
       "    <tr>\n",
       "      <th>6434</th>\n",
       "      <td>45</td>\n",
       "      <td>26-10-2012</td>\n",
       "      <td>760281.43</td>\n",
       "      <td>0</td>\n",
       "      <td>58.85</td>\n",
       "      <td>3.882</td>\n",
       "      <td>192.308899</td>\n",
       "      <td>8.667</td>\n",
       "    </tr>\n",
       "  </tbody>\n",
       "</table>\n",
       "<p>6435 rows × 8 columns</p>\n",
       "</div>"
      ],
      "text/plain": [
       "      tienda       fecha      ventas  festivos  temperatura  costoCombustible  \\\n",
       "0          1  05-02-2010  1643690.90         0        42.31             2.572   \n",
       "1          1  12-02-2010  1641957.44         1        38.51             2.548   \n",
       "2          1  19-02-2010  1611968.17         0        39.93             2.514   \n",
       "3          1  26-02-2010  1409727.59         0        46.63             2.561   \n",
       "4          1  05-03-2010  1554806.68         0        46.50             2.625   \n",
       "...      ...         ...         ...       ...          ...               ...   \n",
       "6430      45  28-09-2012   713173.95         0        64.88             3.997   \n",
       "6431      45  05-10-2012   733455.07         0        64.89             3.985   \n",
       "6432      45  12-10-2012   734464.36         0        54.47             4.000   \n",
       "6433      45  19-10-2012   718125.53         0        56.47             3.969   \n",
       "6434      45  26-10-2012   760281.43         0        58.85             3.882   \n",
       "\n",
       "             IPC  desempleo  \n",
       "0     211.096358      8.106  \n",
       "1     211.242170      8.106  \n",
       "2     211.289143      8.106  \n",
       "3     211.319643      8.106  \n",
       "4     211.350143      8.106  \n",
       "...          ...        ...  \n",
       "6430  192.013558      8.684  \n",
       "6431  192.170412      8.667  \n",
       "6432  192.327265      8.667  \n",
       "6433  192.330854      8.667  \n",
       "6434  192.308899      8.667  \n",
       "\n",
       "[6435 rows x 8 columns]"
      ]
     },
     "execution_count": 4,
     "metadata": {},
     "output_type": "execute_result"
    }
   ],
   "source": [
    "df.rename({'Store':'tienda','Date':'fecha','Weekly_Sales':'ventas',\n",
    "             'Holiday_Flag':'festivos','Temperature':'temperatura','Fuel_Price':'costoCombustible','CPI':'IPC','Unemployment':'desempleo'}, axis=1, inplace=True)\n",
    "df"
   ]
  },
  {
   "cell_type": "markdown",
   "id": "d51979ef",
   "metadata": {},
   "source": [
    "### 2. Obtenga los descriptivos resumen de la base de datos e identifique a las variables numéricas y categóricas. ¿Hay algo que le llame la atención? "
   ]
  },
  {
   "cell_type": "code",
   "execution_count": 5,
   "id": "1bf70134",
   "metadata": {},
   "outputs": [
    {
     "data": {
      "text/html": [
       "<div>\n",
       "<style scoped>\n",
       "    .dataframe tbody tr th:only-of-type {\n",
       "        vertical-align: middle;\n",
       "    }\n",
       "\n",
       "    .dataframe tbody tr th {\n",
       "        vertical-align: top;\n",
       "    }\n",
       "\n",
       "    .dataframe thead th {\n",
       "        text-align: right;\n",
       "    }\n",
       "</style>\n",
       "<table border=\"1\" class=\"dataframe\">\n",
       "  <thead>\n",
       "    <tr style=\"text-align: right;\">\n",
       "      <th></th>\n",
       "      <th>tienda</th>\n",
       "      <th>ventas</th>\n",
       "      <th>festivos</th>\n",
       "      <th>temperatura</th>\n",
       "      <th>costoCombustible</th>\n",
       "      <th>IPC</th>\n",
       "      <th>desempleo</th>\n",
       "    </tr>\n",
       "  </thead>\n",
       "  <tbody>\n",
       "    <tr>\n",
       "      <th>count</th>\n",
       "      <td>6435.000000</td>\n",
       "      <td>6.435000e+03</td>\n",
       "      <td>6435.000000</td>\n",
       "      <td>6435.000000</td>\n",
       "      <td>6435.000000</td>\n",
       "      <td>6435.000000</td>\n",
       "      <td>6435.000000</td>\n",
       "    </tr>\n",
       "    <tr>\n",
       "      <th>mean</th>\n",
       "      <td>23.000000</td>\n",
       "      <td>1.046965e+06</td>\n",
       "      <td>0.069930</td>\n",
       "      <td>60.663782</td>\n",
       "      <td>3.358607</td>\n",
       "      <td>171.578394</td>\n",
       "      <td>7.999151</td>\n",
       "    </tr>\n",
       "    <tr>\n",
       "      <th>std</th>\n",
       "      <td>12.988182</td>\n",
       "      <td>5.643666e+05</td>\n",
       "      <td>0.255049</td>\n",
       "      <td>18.444933</td>\n",
       "      <td>0.459020</td>\n",
       "      <td>39.356712</td>\n",
       "      <td>1.875885</td>\n",
       "    </tr>\n",
       "    <tr>\n",
       "      <th>min</th>\n",
       "      <td>1.000000</td>\n",
       "      <td>2.099862e+05</td>\n",
       "      <td>0.000000</td>\n",
       "      <td>-2.060000</td>\n",
       "      <td>2.472000</td>\n",
       "      <td>126.064000</td>\n",
       "      <td>3.879000</td>\n",
       "    </tr>\n",
       "    <tr>\n",
       "      <th>25%</th>\n",
       "      <td>12.000000</td>\n",
       "      <td>5.533501e+05</td>\n",
       "      <td>0.000000</td>\n",
       "      <td>47.460000</td>\n",
       "      <td>2.933000</td>\n",
       "      <td>131.735000</td>\n",
       "      <td>6.891000</td>\n",
       "    </tr>\n",
       "    <tr>\n",
       "      <th>50%</th>\n",
       "      <td>23.000000</td>\n",
       "      <td>9.607460e+05</td>\n",
       "      <td>0.000000</td>\n",
       "      <td>62.670000</td>\n",
       "      <td>3.445000</td>\n",
       "      <td>182.616521</td>\n",
       "      <td>7.874000</td>\n",
       "    </tr>\n",
       "    <tr>\n",
       "      <th>75%</th>\n",
       "      <td>34.000000</td>\n",
       "      <td>1.420159e+06</td>\n",
       "      <td>0.000000</td>\n",
       "      <td>74.940000</td>\n",
       "      <td>3.735000</td>\n",
       "      <td>212.743293</td>\n",
       "      <td>8.622000</td>\n",
       "    </tr>\n",
       "    <tr>\n",
       "      <th>max</th>\n",
       "      <td>45.000000</td>\n",
       "      <td>3.818686e+06</td>\n",
       "      <td>1.000000</td>\n",
       "      <td>100.140000</td>\n",
       "      <td>4.468000</td>\n",
       "      <td>227.232807</td>\n",
       "      <td>14.313000</td>\n",
       "    </tr>\n",
       "  </tbody>\n",
       "</table>\n",
       "</div>"
      ],
      "text/plain": [
       "            tienda        ventas     festivos  temperatura  costoCombustible  \\\n",
       "count  6435.000000  6.435000e+03  6435.000000  6435.000000       6435.000000   \n",
       "mean     23.000000  1.046965e+06     0.069930    60.663782          3.358607   \n",
       "std      12.988182  5.643666e+05     0.255049    18.444933          0.459020   \n",
       "min       1.000000  2.099862e+05     0.000000    -2.060000          2.472000   \n",
       "25%      12.000000  5.533501e+05     0.000000    47.460000          2.933000   \n",
       "50%      23.000000  9.607460e+05     0.000000    62.670000          3.445000   \n",
       "75%      34.000000  1.420159e+06     0.000000    74.940000          3.735000   \n",
       "max      45.000000  3.818686e+06     1.000000   100.140000          4.468000   \n",
       "\n",
       "               IPC    desempleo  \n",
       "count  6435.000000  6435.000000  \n",
       "mean    171.578394     7.999151  \n",
       "std      39.356712     1.875885  \n",
       "min     126.064000     3.879000  \n",
       "25%     131.735000     6.891000  \n",
       "50%     182.616521     7.874000  \n",
       "75%     212.743293     8.622000  \n",
       "max     227.232807    14.313000  "
      ]
     },
     "execution_count": 5,
     "metadata": {},
     "output_type": "execute_result"
    }
   ],
   "source": [
    "# Estadistica descriptiva de variables cuantitativas\n",
    "df.describe()"
   ]
  },
  {
   "cell_type": "markdown",
   "id": "e354d005",
   "metadata": {},
   "source": [
    "Para las variables cuantitativas, se puede observar que la variable \"ventas\" cuenta con una desviacion estandar alta. Por otro lado, algo que tambien salta a la vista es la cercania del Q2 y del Q3 para la variable \"costoCombustible\", notanto que cerca del 50% de los datos es menor que 3.44, pero a su ve el 75% de ellos es menor a 3.73, la brecha es relativamente nula."
   ]
  },
  {
   "cell_type": "markdown",
   "id": "548961d3",
   "metadata": {},
   "source": [
    "Para este análisis no se tiene variables categóricas"
   ]
  },
  {
   "cell_type": "markdown",
   "id": "db7e1e31",
   "metadata": {},
   "source": [
    "### 3.  Evalúe si la base contiene datos perdidos"
   ]
  },
  {
   "cell_type": "code",
   "execution_count": 6,
   "id": "ca00e98d",
   "metadata": {},
   "outputs": [
    {
     "data": {
      "text/plain": [
       "tienda              0\n",
       "fecha               0\n",
       "ventas              0\n",
       "festivos            0\n",
       "temperatura         0\n",
       "costoCombustible    0\n",
       "IPC                 0\n",
       "desempleo           0\n",
       "dtype: int64"
      ]
     },
     "execution_count": 6,
     "metadata": {},
     "output_type": "execute_result"
    }
   ],
   "source": [
    "df.isna().sum()"
   ]
  },
  {
   "cell_type": "markdown",
   "id": "91592336",
   "metadata": {},
   "source": [
    "No se cuenta con datos perdidos o faltantes, por lo cual no hay la necesidad de eliminar ninguna observacion."
   ]
  },
  {
   "cell_type": "markdown",
   "id": "fd9762eb",
   "metadata": {},
   "source": [
    "Recordemos que en datos de panel, requerimos especificar los índice para nuestra base de datos. En este caso, setiaremos la fecha y la tienda como referencia."
   ]
  },
  {
   "cell_type": "code",
   "execution_count": 7,
   "id": "6a0976a3",
   "metadata": {},
   "outputs": [
    {
     "data": {
      "text/html": [
       "<div>\n",
       "<style scoped>\n",
       "    .dataframe tbody tr th:only-of-type {\n",
       "        vertical-align: middle;\n",
       "    }\n",
       "\n",
       "    .dataframe tbody tr th {\n",
       "        vertical-align: top;\n",
       "    }\n",
       "\n",
       "    .dataframe thead th {\n",
       "        text-align: right;\n",
       "    }\n",
       "</style>\n",
       "<table border=\"1\" class=\"dataframe\">\n",
       "  <thead>\n",
       "    <tr style=\"text-align: right;\">\n",
       "      <th></th>\n",
       "      <th></th>\n",
       "      <th>ventas</th>\n",
       "      <th>festivos</th>\n",
       "      <th>temperatura</th>\n",
       "      <th>costoCombustible</th>\n",
       "      <th>IPC</th>\n",
       "      <th>desempleo</th>\n",
       "    </tr>\n",
       "    <tr>\n",
       "      <th>fecha</th>\n",
       "      <th>tienda</th>\n",
       "      <th></th>\n",
       "      <th></th>\n",
       "      <th></th>\n",
       "      <th></th>\n",
       "      <th></th>\n",
       "      <th></th>\n",
       "    </tr>\n",
       "  </thead>\n",
       "  <tbody>\n",
       "    <tr>\n",
       "      <th>05-02-2010</th>\n",
       "      <th>1</th>\n",
       "      <td>1643690.90</td>\n",
       "      <td>0</td>\n",
       "      <td>42.31</td>\n",
       "      <td>2.572</td>\n",
       "      <td>211.096358</td>\n",
       "      <td>8.106</td>\n",
       "    </tr>\n",
       "    <tr>\n",
       "      <th>12-02-2010</th>\n",
       "      <th>1</th>\n",
       "      <td>1641957.44</td>\n",
       "      <td>1</td>\n",
       "      <td>38.51</td>\n",
       "      <td>2.548</td>\n",
       "      <td>211.242170</td>\n",
       "      <td>8.106</td>\n",
       "    </tr>\n",
       "    <tr>\n",
       "      <th>19-02-2010</th>\n",
       "      <th>1</th>\n",
       "      <td>1611968.17</td>\n",
       "      <td>0</td>\n",
       "      <td>39.93</td>\n",
       "      <td>2.514</td>\n",
       "      <td>211.289143</td>\n",
       "      <td>8.106</td>\n",
       "    </tr>\n",
       "    <tr>\n",
       "      <th>26-02-2010</th>\n",
       "      <th>1</th>\n",
       "      <td>1409727.59</td>\n",
       "      <td>0</td>\n",
       "      <td>46.63</td>\n",
       "      <td>2.561</td>\n",
       "      <td>211.319643</td>\n",
       "      <td>8.106</td>\n",
       "    </tr>\n",
       "    <tr>\n",
       "      <th>05-03-2010</th>\n",
       "      <th>1</th>\n",
       "      <td>1554806.68</td>\n",
       "      <td>0</td>\n",
       "      <td>46.50</td>\n",
       "      <td>2.625</td>\n",
       "      <td>211.350143</td>\n",
       "      <td>8.106</td>\n",
       "    </tr>\n",
       "    <tr>\n",
       "      <th>...</th>\n",
       "      <th>...</th>\n",
       "      <td>...</td>\n",
       "      <td>...</td>\n",
       "      <td>...</td>\n",
       "      <td>...</td>\n",
       "      <td>...</td>\n",
       "      <td>...</td>\n",
       "    </tr>\n",
       "    <tr>\n",
       "      <th>28-09-2012</th>\n",
       "      <th>45</th>\n",
       "      <td>713173.95</td>\n",
       "      <td>0</td>\n",
       "      <td>64.88</td>\n",
       "      <td>3.997</td>\n",
       "      <td>192.013558</td>\n",
       "      <td>8.684</td>\n",
       "    </tr>\n",
       "    <tr>\n",
       "      <th>05-10-2012</th>\n",
       "      <th>45</th>\n",
       "      <td>733455.07</td>\n",
       "      <td>0</td>\n",
       "      <td>64.89</td>\n",
       "      <td>3.985</td>\n",
       "      <td>192.170412</td>\n",
       "      <td>8.667</td>\n",
       "    </tr>\n",
       "    <tr>\n",
       "      <th>12-10-2012</th>\n",
       "      <th>45</th>\n",
       "      <td>734464.36</td>\n",
       "      <td>0</td>\n",
       "      <td>54.47</td>\n",
       "      <td>4.000</td>\n",
       "      <td>192.327265</td>\n",
       "      <td>8.667</td>\n",
       "    </tr>\n",
       "    <tr>\n",
       "      <th>19-10-2012</th>\n",
       "      <th>45</th>\n",
       "      <td>718125.53</td>\n",
       "      <td>0</td>\n",
       "      <td>56.47</td>\n",
       "      <td>3.969</td>\n",
       "      <td>192.330854</td>\n",
       "      <td>8.667</td>\n",
       "    </tr>\n",
       "    <tr>\n",
       "      <th>26-10-2012</th>\n",
       "      <th>45</th>\n",
       "      <td>760281.43</td>\n",
       "      <td>0</td>\n",
       "      <td>58.85</td>\n",
       "      <td>3.882</td>\n",
       "      <td>192.308899</td>\n",
       "      <td>8.667</td>\n",
       "    </tr>\n",
       "  </tbody>\n",
       "</table>\n",
       "<p>6435 rows × 6 columns</p>\n",
       "</div>"
      ],
      "text/plain": [
       "                       ventas  festivos  temperatura  costoCombustible  \\\n",
       "fecha      tienda                                                        \n",
       "05-02-2010 1       1643690.90         0        42.31             2.572   \n",
       "12-02-2010 1       1641957.44         1        38.51             2.548   \n",
       "19-02-2010 1       1611968.17         0        39.93             2.514   \n",
       "26-02-2010 1       1409727.59         0        46.63             2.561   \n",
       "05-03-2010 1       1554806.68         0        46.50             2.625   \n",
       "...                       ...       ...          ...               ...   \n",
       "28-09-2012 45       713173.95         0        64.88             3.997   \n",
       "05-10-2012 45       733455.07         0        64.89             3.985   \n",
       "12-10-2012 45       734464.36         0        54.47             4.000   \n",
       "19-10-2012 45       718125.53         0        56.47             3.969   \n",
       "26-10-2012 45       760281.43         0        58.85             3.882   \n",
       "\n",
       "                          IPC  desempleo  \n",
       "fecha      tienda                         \n",
       "05-02-2010 1       211.096358      8.106  \n",
       "12-02-2010 1       211.242170      8.106  \n",
       "19-02-2010 1       211.289143      8.106  \n",
       "26-02-2010 1       211.319643      8.106  \n",
       "05-03-2010 1       211.350143      8.106  \n",
       "...                       ...        ...  \n",
       "28-09-2012 45      192.013558      8.684  \n",
       "05-10-2012 45      192.170412      8.667  \n",
       "12-10-2012 45      192.327265      8.667  \n",
       "19-10-2012 45      192.330854      8.667  \n",
       "26-10-2012 45      192.308899      8.667  \n",
       "\n",
       "[6435 rows x 6 columns]"
      ]
     },
     "execution_count": 7,
     "metadata": {},
     "output_type": "execute_result"
    }
   ],
   "source": [
    "df=df.set_index(['fecha', 'tienda'])\n",
    "df"
   ]
  },
  {
   "cell_type": "code",
   "execution_count": 8,
   "id": "fd279925",
   "metadata": {},
   "outputs": [],
   "source": [
    "fecha = df.index.get_level_values('fecha').to_list()\n",
    "df['fecha'] = pd.Categorical(fecha)"
   ]
  },
  {
   "cell_type": "markdown",
   "id": "adc547f9",
   "metadata": {},
   "source": [
    "Una vez que tenemos nuestra base de datos, nuestro punto de partida en este tipo de análisis siempre será un modelo simple OLS sobre nuestros datos de panel, en el cual, ignoraremos el tiempo y las características individuales, y se enfocará únicamente en las dependencias entre los individuos. "
   ]
  },
  {
   "cell_type": "markdown",
   "id": "3f4fda66",
   "metadata": {},
   "source": [
    "### 4. Evalúe si alguna de las variables contiene datos atípicos (outliers)\n",
    "- De ser el caso, detalle cuáles y qué método estadístico aplicarán para corregir. \n"
   ]
  },
  {
   "cell_type": "code",
   "execution_count": 9,
   "id": "fae0d683",
   "metadata": {},
   "outputs": [
    {
     "data": {
      "image/png": "[encoded data removed]",
      "text/plain": [
       "<Figure size 900x500 with 6 Axes>"
      ]
     },
     "metadata": {},
     "output_type": "display_data"
    }
   ],
   "source": [
    "# Box plots\n",
    "fig, axs = plt.subplots(3,2, figsize = (9,5))\n",
    "plt1 = sns.boxplot(df['ventas'], ax = axs[0,0])\n",
    "plt1 = sns.boxplot(df['temperatura'], ax = axs[0,1])\n",
    "plt1 = sns.boxplot(df['costoCombustible'], ax = axs[1,0])\n",
    "plt1 = sns.boxplot(df['IPC'], ax = axs[1,1])\n",
    "plt1 = sns.boxplot(df['desempleo'], ax = axs[2,0])\n",
    "plt.tight_layout()"
   ]
  },
  {
   "cell_type": "markdown",
   "id": "b6165c84",
   "metadata": {},
   "source": [
    "Eliminar las observaciones de feriado para verificar como se tiene los datos atípicos (outliers)"
   ]
  },
  {
   "cell_type": "code",
   "execution_count": 10,
   "id": "adc975e2",
   "metadata": {},
   "outputs": [
    {
     "data": {
      "text/html": [
       "<div>\n",
       "<style scoped>\n",
       "    .dataframe tbody tr th:only-of-type {\n",
       "        vertical-align: middle;\n",
       "    }\n",
       "\n",
       "    .dataframe tbody tr th {\n",
       "        vertical-align: top;\n",
       "    }\n",
       "\n",
       "    .dataframe thead th {\n",
       "        text-align: right;\n",
       "    }\n",
       "</style>\n",
       "<table border=\"1\" class=\"dataframe\">\n",
       "  <thead>\n",
       "    <tr style=\"text-align: right;\">\n",
       "      <th></th>\n",
       "      <th></th>\n",
       "      <th>ventas</th>\n",
       "      <th>festivos</th>\n",
       "      <th>temperatura</th>\n",
       "      <th>costoCombustible</th>\n",
       "      <th>IPC</th>\n",
       "      <th>desempleo</th>\n",
       "      <th>fecha</th>\n",
       "    </tr>\n",
       "    <tr>\n",
       "      <th>fecha</th>\n",
       "      <th>tienda</th>\n",
       "      <th></th>\n",
       "      <th></th>\n",
       "      <th></th>\n",
       "      <th></th>\n",
       "      <th></th>\n",
       "      <th></th>\n",
       "      <th></th>\n",
       "    </tr>\n",
       "  </thead>\n",
       "  <tbody>\n",
       "    <tr>\n",
       "      <th>05-02-2010</th>\n",
       "      <th>1</th>\n",
       "      <td>1643690.90</td>\n",
       "      <td>0</td>\n",
       "      <td>42.31</td>\n",
       "      <td>2.572</td>\n",
       "      <td>211.096358</td>\n",
       "      <td>8.106</td>\n",
       "      <td>05-02-2010</td>\n",
       "    </tr>\n",
       "    <tr>\n",
       "      <th>19-02-2010</th>\n",
       "      <th>1</th>\n",
       "      <td>1611968.17</td>\n",
       "      <td>0</td>\n",
       "      <td>39.93</td>\n",
       "      <td>2.514</td>\n",
       "      <td>211.289143</td>\n",
       "      <td>8.106</td>\n",
       "      <td>19-02-2010</td>\n",
       "    </tr>\n",
       "    <tr>\n",
       "      <th>26-02-2010</th>\n",
       "      <th>1</th>\n",
       "      <td>1409727.59</td>\n",
       "      <td>0</td>\n",
       "      <td>46.63</td>\n",
       "      <td>2.561</td>\n",
       "      <td>211.319643</td>\n",
       "      <td>8.106</td>\n",
       "      <td>26-02-2010</td>\n",
       "    </tr>\n",
       "    <tr>\n",
       "      <th>05-03-2010</th>\n",
       "      <th>1</th>\n",
       "      <td>1554806.68</td>\n",
       "      <td>0</td>\n",
       "      <td>46.50</td>\n",
       "      <td>2.625</td>\n",
       "      <td>211.350143</td>\n",
       "      <td>8.106</td>\n",
       "      <td>05-03-2010</td>\n",
       "    </tr>\n",
       "    <tr>\n",
       "      <th>12-03-2010</th>\n",
       "      <th>1</th>\n",
       "      <td>1439541.59</td>\n",
       "      <td>0</td>\n",
       "      <td>57.79</td>\n",
       "      <td>2.667</td>\n",
       "      <td>211.380643</td>\n",
       "      <td>8.106</td>\n",
       "      <td>12-03-2010</td>\n",
       "    </tr>\n",
       "    <tr>\n",
       "      <th>...</th>\n",
       "      <th>...</th>\n",
       "      <td>...</td>\n",
       "      <td>...</td>\n",
       "      <td>...</td>\n",
       "      <td>...</td>\n",
       "      <td>...</td>\n",
       "      <td>...</td>\n",
       "      <td>...</td>\n",
       "    </tr>\n",
       "    <tr>\n",
       "      <th>28-09-2012</th>\n",
       "      <th>45</th>\n",
       "      <td>713173.95</td>\n",
       "      <td>0</td>\n",
       "      <td>64.88</td>\n",
       "      <td>3.997</td>\n",
       "      <td>192.013558</td>\n",
       "      <td>8.684</td>\n",
       "      <td>28-09-2012</td>\n",
       "    </tr>\n",
       "    <tr>\n",
       "      <th>05-10-2012</th>\n",
       "      <th>45</th>\n",
       "      <td>733455.07</td>\n",
       "      <td>0</td>\n",
       "      <td>64.89</td>\n",
       "      <td>3.985</td>\n",
       "      <td>192.170412</td>\n",
       "      <td>8.667</td>\n",
       "      <td>05-10-2012</td>\n",
       "    </tr>\n",
       "    <tr>\n",
       "      <th>12-10-2012</th>\n",
       "      <th>45</th>\n",
       "      <td>734464.36</td>\n",
       "      <td>0</td>\n",
       "      <td>54.47</td>\n",
       "      <td>4.000</td>\n",
       "      <td>192.327265</td>\n",
       "      <td>8.667</td>\n",
       "      <td>12-10-2012</td>\n",
       "    </tr>\n",
       "    <tr>\n",
       "      <th>19-10-2012</th>\n",
       "      <th>45</th>\n",
       "      <td>718125.53</td>\n",
       "      <td>0</td>\n",
       "      <td>56.47</td>\n",
       "      <td>3.969</td>\n",
       "      <td>192.330854</td>\n",
       "      <td>8.667</td>\n",
       "      <td>19-10-2012</td>\n",
       "    </tr>\n",
       "    <tr>\n",
       "      <th>26-10-2012</th>\n",
       "      <th>45</th>\n",
       "      <td>760281.43</td>\n",
       "      <td>0</td>\n",
       "      <td>58.85</td>\n",
       "      <td>3.882</td>\n",
       "      <td>192.308899</td>\n",
       "      <td>8.667</td>\n",
       "      <td>26-10-2012</td>\n",
       "    </tr>\n",
       "  </tbody>\n",
       "</table>\n",
       "<p>5985 rows × 7 columns</p>\n",
       "</div>"
      ],
      "text/plain": [
       "                       ventas  festivos  temperatura  costoCombustible  \\\n",
       "fecha      tienda                                                        \n",
       "05-02-2010 1       1643690.90         0        42.31             2.572   \n",
       "19-02-2010 1       1611968.17         0        39.93             2.514   \n",
       "26-02-2010 1       1409727.59         0        46.63             2.561   \n",
       "05-03-2010 1       1554806.68         0        46.50             2.625   \n",
       "12-03-2010 1       1439541.59         0        57.79             2.667   \n",
       "...                       ...       ...          ...               ...   \n",
       "28-09-2012 45       713173.95         0        64.88             3.997   \n",
       "05-10-2012 45       733455.07         0        64.89             3.985   \n",
       "12-10-2012 45       734464.36         0        54.47             4.000   \n",
       "19-10-2012 45       718125.53         0        56.47             3.969   \n",
       "26-10-2012 45       760281.43         0        58.85             3.882   \n",
       "\n",
       "                          IPC  desempleo       fecha  \n",
       "fecha      tienda                                     \n",
       "05-02-2010 1       211.096358      8.106  05-02-2010  \n",
       "19-02-2010 1       211.289143      8.106  19-02-2010  \n",
       "26-02-2010 1       211.319643      8.106  26-02-2010  \n",
       "05-03-2010 1       211.350143      8.106  05-03-2010  \n",
       "12-03-2010 1       211.380643      8.106  12-03-2010  \n",
       "...                       ...        ...         ...  \n",
       "28-09-2012 45      192.013558      8.684  28-09-2012  \n",
       "05-10-2012 45      192.170412      8.667  05-10-2012  \n",
       "12-10-2012 45      192.327265      8.667  12-10-2012  \n",
       "19-10-2012 45      192.330854      8.667  19-10-2012  \n",
       "26-10-2012 45      192.308899      8.667  26-10-2012  \n",
       "\n",
       "[5985 rows x 7 columns]"
      ]
     },
     "execution_count": 10,
     "metadata": {},
     "output_type": "execute_result"
    }
   ],
   "source": [
    "df1=df[df[\"festivos\"]==1].index\n",
    "df1=df.drop(df1)\n",
    "df1"
   ]
  },
  {
   "cell_type": "code",
   "execution_count": 11,
   "id": "437ed2da",
   "metadata": {},
   "outputs": [
    {
     "data": {
      "image/png": "[encoded data removed]",
      "text/plain": [
       "<Figure size 900x500 with 6 Axes>"
      ]
     },
     "metadata": {},
     "output_type": "display_data"
    }
   ],
   "source": [
    "# Box plots\n",
    "fig, axs = plt.subplots(3,2, figsize = (9,5))\n",
    "plt1 = sns.boxplot(df['ventas'], ax = axs[0,0])\n",
    "plt1 = sns.boxplot(df['temperatura'], ax = axs[0,1])\n",
    "plt1 = sns.boxplot(df['costoCombustible'], ax = axs[1,0])\n",
    "plt1 = sns.boxplot(df['IPC'], ax = axs[1,1])\n",
    "plt1 = sns.boxplot(df['desempleo'], ax = axs[2,0])\n",
    "plt.tight_layout()"
   ]
  },
  {
   "cell_type": "markdown",
   "id": "65305bb7",
   "metadata": {},
   "source": [
    "Como no existe una notable variación al eliminar las fechas festivas mejor es dejarles para no perder datos y procedemos a remover aquellas observaciones que se encuentran fuera de rango de las variables Ventas, temperatura y desempleo"
   ]
  },
  {
   "cell_type": "code",
   "execution_count": 12,
   "id": "41639cd6",
   "metadata": {},
   "outputs": [
    {
     "name": "stdout",
     "output_type": "stream",
     "text": [
      "866808.5549999999\n"
     ]
    },
    {
     "data": {
      "text/plain": [
       "(6401, 7)"
      ]
     },
     "execution_count": 12,
     "metadata": {},
     "output_type": "execute_result"
    }
   ],
   "source": [
    "# Calculamos el Quartil 1 y Quartil 3 que son aquellos que nos permiten estimar los límites de los datos atípicos\n",
    "Q1_A = df.ventas.quantile(0.25)\n",
    "Q3_A = df.ventas.quantile(0.75)\n",
    "IQR_A = Q3_A - Q1_A  #rango intercuartil\n",
    "print(IQR_A)\n",
    "\n",
    "# Ahora removemos aquellas observaciones que se encuentran por fuera del rango: 1.5 x IOR\n",
    "df = df[~((df['ventas'] < (Q1_A - 1.5 * IQR_A)) |(df['ventas'] > (Q3_A + 1.5 * IQR_A)))]\n",
    "df.shape"
   ]
  },
  {
   "cell_type": "code",
   "execution_count": 13,
   "id": "2b56d859",
   "metadata": {},
   "outputs": [
    {
     "name": "stdout",
     "output_type": "stream",
     "text": [
      "27.340000000000003\n"
     ]
    },
    {
     "data": {
      "text/plain": [
       "(6398, 7)"
      ]
     },
     "execution_count": 13,
     "metadata": {},
     "output_type": "execute_result"
    }
   ],
   "source": [
    "# Calculamos el Quartil 1 y Quartil 3 que son aquellos que nos permiten estimar los límites de los datos atípicos\n",
    "Q1_D = df.temperatura.quantile(0.25)\n",
    "Q3_D = df.temperatura.quantile(0.75)\n",
    "IQR_D = Q3_D - Q1_D  #rango intercuartil\n",
    "print(IQR_D)\n",
    "\n",
    "# Ahora removemos aquellas observaciones que se encuentran por fuera del rango: 1.5 x IOR\n",
    "df = df[~((df['temperatura'] < (Q1_D - 1.5 * IQR_D)) |(df['temperatura'] > (Q3_D + 1.5 * IQR_D)))]\n",
    "df.shape"
   ]
  },
  {
   "cell_type": "code",
   "execution_count": 14,
   "id": "3a4dd731",
   "metadata": {},
   "outputs": [
    {
     "name": "stdout",
     "output_type": "stream",
     "text": [
      "1.7309999999999999\n"
     ]
    },
    {
     "data": {
      "text/plain": [
       "(5917, 7)"
      ]
     },
     "execution_count": 14,
     "metadata": {},
     "output_type": "execute_result"
    }
   ],
   "source": [
    "# Calculamos el Quartil 1 y Quartil 3 que son aquellos que nos permiten estimar los límites de los datos atípicos\n",
    "Q1_c = df.desempleo.quantile(0.25)\n",
    "Q3_c = df.desempleo.quantile(0.75)\n",
    "IQR_c = Q3_c - Q1_c  #rango intercuartil\n",
    "print(IQR_c)\n",
    "\n",
    "# Ahora removemos aquellas observaciones que se encuentran por fuera del rango: 1.5 x IOR\n",
    "df = df[~((df['desempleo'] < (Q1_c - 1.5 * IQR_c)) |(df['desempleo'] > (Q3_c + 1.5 * IQR_c)))]\n",
    "df.shape"
   ]
  },
  {
   "cell_type": "code",
   "execution_count": 15,
   "id": "ce1754f9",
   "metadata": {},
   "outputs": [
    {
     "data": {
      "image/png": "[encoded data removed]",
      "text/plain": [
       "<Figure size 900x500 with 6 Axes>"
      ]
     },
     "metadata": {},
     "output_type": "display_data"
    }
   ],
   "source": [
    "# Box plots\n",
    "fig, axs = plt.subplots(3,2, figsize = (9,5))\n",
    "plt1 = sns.boxplot(df['ventas'], ax = axs[0,0])\n",
    "plt1 = sns.boxplot(df['temperatura'], ax = axs[0,1])\n",
    "plt1 = sns.boxplot(df['costoCombustible'], ax = axs[1,0])\n",
    "plt1 = sns.boxplot(df['IPC'], ax = axs[1,1])\n",
    "plt1 = sns.boxplot(df['desempleo'], ax = axs[2,0])\n",
    "plt.tight_layout()"
   ]
  },
  {
   "cell_type": "markdown",
   "id": "907da11d",
   "metadata": {},
   "source": [
    "### 5. Grafique las distribuciones de las vsriables y a priori comente sobre ellas"
   ]
  },
  {
   "cell_type": "code",
   "execution_count": 16,
   "id": "c1971076",
   "metadata": {},
   "outputs": [
    {
     "data": {
      "image/png": "[encoded data removed]",
      "text/plain": [
       "<Figure size 900x500 with 6 Axes>"
      ]
     },
     "metadata": {},
     "output_type": "display_data"
    }
   ],
   "source": [
    "# Box plots\n",
    "fig, axs = plt.subplots(3,2, figsize = (9,5))\n",
    "plt1 = sns.distplot(df['ventas'], ax = axs[0,0])\n",
    "plt2 = sns.distplot(df['temperatura'], ax = axs[0,1])\n",
    "plt1 = sns.distplot(df['costoCombustible'], ax = axs[1,0])\n",
    "plt2 = sns.distplot(df['IPC'], ax = axs[1,1])\n",
    "plt1 = sns.distplot(df['desempleo'], ax = axs[2,0])\n",
    "plt.tight_layout()"
   ]
  },
  {
   "cell_type": "code",
   "execution_count": 17,
   "id": "31079340",
   "metadata": {},
   "outputs": [
    {
     "data": {
      "text/plain": [
       "0.5031092228744799"
      ]
     },
     "execution_count": 17,
     "metadata": {},
     "output_type": "execute_result"
    }
   ],
   "source": [
    "df.ventas.skew()"
   ]
  },
  {
   "cell_type": "markdown",
   "id": "ea74e133",
   "metadata": {},
   "source": [
    "Las observaciones de la variable ventas, a agruparse alrededor de la media. Por otro lado, se puede mencionar que su asimetría es positiva, por lo cual la distribución tiene más valores diferentes a la derecha de la media que a su izquierda"
   ]
  },
  {
   "cell_type": "code",
   "execution_count": 18,
   "id": "af4a2233",
   "metadata": {},
   "outputs": [
    {
     "data": {
      "text/plain": [
       "-0.35154869769214975"
      ]
     },
     "execution_count": 18,
     "metadata": {},
     "output_type": "execute_result"
    }
   ],
   "source": [
    "df.temperatura.skew()"
   ]
  },
  {
   "cell_type": "code",
   "execution_count": 19,
   "id": "3733e9f8",
   "metadata": {},
   "outputs": [
    {
     "data": {
      "text/plain": [
       "-0.0871283312387149"
      ]
     },
     "execution_count": 19,
     "metadata": {},
     "output_type": "execute_result"
    }
   ],
   "source": [
    "df.costoCombustible.skew()"
   ]
  },
  {
   "cell_type": "code",
   "execution_count": 20,
   "id": "f9d241cc",
   "metadata": {},
   "outputs": [
    {
     "data": {
      "text/plain": [
       "-0.09204138603781147"
      ]
     },
     "execution_count": 20,
     "metadata": {},
     "output_type": "execute_result"
    }
   ],
   "source": [
    "df.IPC.skew()"
   ]
  },
  {
   "cell_type": "code",
   "execution_count": 21,
   "id": "b67f7796",
   "metadata": {},
   "outputs": [
    {
     "data": {
      "text/plain": [
       "-0.0993326871740596"
      ]
     },
     "execution_count": 21,
     "metadata": {},
     "output_type": "execute_result"
    }
   ],
   "source": [
    "df.desempleo.skew()"
   ]
  },
  {
   "cell_type": "markdown",
   "id": "17afe92b",
   "metadata": {},
   "source": [
    "Para las variables de costoCombustible e IPC, se puede mencionar que cuentan con varios picos en ciertos valores, lo cual tiene sentido por la naturaleza de la variable, es decir no son continuas del todo, como para tener una distribucion como la variable ventas.\n",
    "Adicional para las variables temperatura y desempleo tiene una asimetría negativa, por lo cual la distribución tiene más valores diferentes a la izquierda de la media que a su derecha"
   ]
  },
  {
   "cell_type": "markdown",
   "id": "85ba39d4",
   "metadata": {},
   "source": [
    "### 6. Obtenga las correlaciones entre los datos de corte numérico"
   ]
  },
  {
   "cell_type": "code",
   "execution_count": 22,
   "id": "3c97a7be",
   "metadata": {
    "scrolled": false
   },
   "outputs": [
    {
     "data": {
      "text/html": [
       "<style type=\"text/css\">\n",
       "#T_146ae_row0_col0, #T_146ae_row1_col1, #T_146ae_row2_col2, #T_146ae_row3_col3, #T_146ae_row4_col4, #T_146ae_row5_col5 {\n",
       "  background-color: #b40426;\n",
       "  color: #f1f1f1;\n",
       "}\n",
       "#T_146ae_row0_col1, #T_146ae_row5_col2 {\n",
       "  background-color: #6c8ff1;\n",
       "  color: #f1f1f1;\n",
       "}\n",
       "#T_146ae_row0_col2, #T_146ae_row1_col0 {\n",
       "  background-color: #5977e3;\n",
       "  color: #f1f1f1;\n",
       "}\n",
       "#T_146ae_row0_col3 {\n",
       "  background-color: #6788ee;\n",
       "  color: #f1f1f1;\n",
       "}\n",
       "#T_146ae_row0_col4 {\n",
       "  background-color: #5d7ce6;\n",
       "  color: #f1f1f1;\n",
       "}\n",
       "#T_146ae_row0_col5 {\n",
       "  background-color: #5f7fe8;\n",
       "  color: #f1f1f1;\n",
       "}\n",
       "#T_146ae_row1_col2, #T_146ae_row2_col1, #T_146ae_row4_col0, #T_146ae_row4_col3, #T_146ae_row4_col5, #T_146ae_row5_col4 {\n",
       "  background-color: #3b4cc0;\n",
       "  color: #f1f1f1;\n",
       "}\n",
       "#T_146ae_row1_col3, #T_146ae_row3_col4 {\n",
       "  background-color: #4c66d6;\n",
       "  color: #f1f1f1;\n",
       "}\n",
       "#T_146ae_row1_col4 {\n",
       "  background-color: #7396f5;\n",
       "  color: #f1f1f1;\n",
       "}\n",
       "#T_146ae_row1_col5 {\n",
       "  background-color: #779af7;\n",
       "  color: #f1f1f1;\n",
       "}\n",
       "#T_146ae_row2_col0 {\n",
       "  background-color: #455cce;\n",
       "  color: #f1f1f1;\n",
       "}\n",
       "#T_146ae_row2_col3 {\n",
       "  background-color: #8db0fe;\n",
       "  color: #000000;\n",
       "}\n",
       "#T_146ae_row2_col4 {\n",
       "  background-color: #b2ccfb;\n",
       "  color: #000000;\n",
       "}\n",
       "#T_146ae_row2_col5 {\n",
       "  background-color: #7b9ff9;\n",
       "  color: #f1f1f1;\n",
       "}\n",
       "#T_146ae_row3_col0 {\n",
       "  background-color: #5875e1;\n",
       "  color: #f1f1f1;\n",
       "}\n",
       "#T_146ae_row3_col1 {\n",
       "  background-color: #4f69d9;\n",
       "  color: #f1f1f1;\n",
       "}\n",
       "#T_146ae_row3_col2 {\n",
       "  background-color: #90b2fe;\n",
       "  color: #000000;\n",
       "}\n",
       "#T_146ae_row3_col5 {\n",
       "  background-color: #5673e0;\n",
       "  color: #f1f1f1;\n",
       "}\n",
       "#T_146ae_row4_col1 {\n",
       "  background-color: #6485ec;\n",
       "  color: #f1f1f1;\n",
       "}\n",
       "#T_146ae_row4_col2 {\n",
       "  background-color: #a6c4fe;\n",
       "  color: #000000;\n",
       "}\n",
       "#T_146ae_row5_col0 {\n",
       "  background-color: #3d50c3;\n",
       "  color: #f1f1f1;\n",
       "}\n",
       "#T_146ae_row5_col1 {\n",
       "  background-color: #688aef;\n",
       "  color: #f1f1f1;\n",
       "}\n",
       "#T_146ae_row5_col3 {\n",
       "  background-color: #445acc;\n",
       "  color: #f1f1f1;\n",
       "}\n",
       "</style>\n",
       "<table id=\"T_146ae\">\n",
       "  <thead>\n",
       "    <tr>\n",
       "      <th class=\"blank level0\" >&nbsp;</th>\n",
       "      <th id=\"T_146ae_level0_col0\" class=\"col_heading level0 col0\" >ventas</th>\n",
       "      <th id=\"T_146ae_level0_col1\" class=\"col_heading level0 col1\" >festivos</th>\n",
       "      <th id=\"T_146ae_level0_col2\" class=\"col_heading level0 col2\" >temperatura</th>\n",
       "      <th id=\"T_146ae_level0_col3\" class=\"col_heading level0 col3\" >costoCombustible</th>\n",
       "      <th id=\"T_146ae_level0_col4\" class=\"col_heading level0 col4\" >IPC</th>\n",
       "      <th id=\"T_146ae_level0_col5\" class=\"col_heading level0 col5\" >desempleo</th>\n",
       "    </tr>\n",
       "  </thead>\n",
       "  <tbody>\n",
       "    <tr>\n",
       "      <th id=\"T_146ae_level0_row0\" class=\"row_heading level0 row0\" >ventas</th>\n",
       "      <td id=\"T_146ae_row0_col0\" class=\"data row0 col0\" >1.000000</td>\n",
       "      <td id=\"T_146ae_row0_col1\" class=\"data row0 col1\" >0.024390</td>\n",
       "      <td id=\"T_146ae_row0_col2\" class=\"data row0 col2\" >-0.041686</td>\n",
       "      <td id=\"T_146ae_row0_col3\" class=\"data row0 col3\" >0.019664</td>\n",
       "      <td id=\"T_146ae_row0_col4\" class=\"data row0 col4\" >-0.082977</td>\n",
       "      <td id=\"T_146ae_row0_col5\" class=\"data row0 col5\" >-0.073092</td>\n",
       "    </tr>\n",
       "    <tr>\n",
       "      <th id=\"T_146ae_level0_row1\" class=\"row_heading level0 row1\" >festivos</th>\n",
       "      <td id=\"T_146ae_row1_col0\" class=\"data row1 col0\" >0.024390</td>\n",
       "      <td id=\"T_146ae_row1_col1\" class=\"data row1 col1\" >1.000000</td>\n",
       "      <td id=\"T_146ae_row1_col2\" class=\"data row1 col2\" >-0.157220</td>\n",
       "      <td id=\"T_146ae_row1_col3\" class=\"data row1 col3\" >-0.076529</td>\n",
       "      <td id=\"T_146ae_row1_col4\" class=\"data row1 col4\" >-0.000450</td>\n",
       "      <td id=\"T_146ae_row1_col5\" class=\"data row1 col5\" >0.011031</td>\n",
       "    </tr>\n",
       "    <tr>\n",
       "      <th id=\"T_146ae_level0_row2\" class=\"row_heading level0 row2\" >temperatura</th>\n",
       "      <td id=\"T_146ae_row2_col0\" class=\"data row2 col0\" >-0.041686</td>\n",
       "      <td id=\"T_146ae_row2_col1\" class=\"data row2 col1\" >-0.157220</td>\n",
       "      <td id=\"T_146ae_row2_col2\" class=\"data row2 col2\" >1.000000</td>\n",
       "      <td id=\"T_146ae_row2_col3\" class=\"data row2 col3\" >0.145157</td>\n",
       "      <td id=\"T_146ae_row2_col4\" class=\"data row2 col4\" >0.217847</td>\n",
       "      <td id=\"T_146ae_row2_col5\" class=\"data row2 col5\" >0.024204</td>\n",
       "    </tr>\n",
       "    <tr>\n",
       "      <th id=\"T_146ae_level0_row3\" class=\"row_heading level0 row3\" >costoCombustible</th>\n",
       "      <td id=\"T_146ae_row3_col0\" class=\"data row3 col0\" >0.019664</td>\n",
       "      <td id=\"T_146ae_row3_col1\" class=\"data row3 col1\" >-0.076529</td>\n",
       "      <td id=\"T_146ae_row3_col2\" class=\"data row3 col2\" >0.145157</td>\n",
       "      <td id=\"T_146ae_row3_col3\" class=\"data row3 col3\" >1.000000</td>\n",
       "      <td id=\"T_146ae_row3_col4\" class=\"data row3 col4\" >-0.144515</td>\n",
       "      <td id=\"T_146ae_row3_col5\" class=\"data row3 col5\" >-0.105214</td>\n",
       "    </tr>\n",
       "    <tr>\n",
       "      <th id=\"T_146ae_level0_row4\" class=\"row_heading level0 row4\" >IPC</th>\n",
       "      <td id=\"T_146ae_row4_col0\" class=\"data row4 col0\" >-0.082977</td>\n",
       "      <td id=\"T_146ae_row4_col1\" class=\"data row4 col1\" >-0.000450</td>\n",
       "      <td id=\"T_146ae_row4_col2\" class=\"data row4 col2\" >0.217847</td>\n",
       "      <td id=\"T_146ae_row4_col3\" class=\"data row4 col3\" >-0.144515</td>\n",
       "      <td id=\"T_146ae_row4_col4\" class=\"data row4 col4\" >1.000000</td>\n",
       "      <td id=\"T_146ae_row4_col5\" class=\"data row4 col5\" >-0.219020</td>\n",
       "    </tr>\n",
       "    <tr>\n",
       "      <th id=\"T_146ae_level0_row5\" class=\"row_heading level0 row5\" >desempleo</th>\n",
       "      <td id=\"T_146ae_row5_col0\" class=\"data row5 col0\" >-0.073092</td>\n",
       "      <td id=\"T_146ae_row5_col1\" class=\"data row5 col1\" >0.011031</td>\n",
       "      <td id=\"T_146ae_row5_col2\" class=\"data row5 col2\" >0.024204</td>\n",
       "      <td id=\"T_146ae_row5_col3\" class=\"data row5 col3\" >-0.105214</td>\n",
       "      <td id=\"T_146ae_row5_col4\" class=\"data row5 col4\" >-0.219020</td>\n",
       "      <td id=\"T_146ae_row5_col5\" class=\"data row5 col5\" >1.000000</td>\n",
       "    </tr>\n",
       "  </tbody>\n",
       "</table>\n"
      ],
      "text/plain": [
       "<pandas.io.formats.style.Styler at 0x17446555f10>"
      ]
     },
     "execution_count": 22,
     "metadata": {},
     "output_type": "execute_result"
    }
   ],
   "source": [
    "df.corr().style.background_gradient(cmap='coolwarm')"
   ]
  },
  {
   "cell_type": "markdown",
   "id": "3baff816",
   "metadata": {},
   "source": [
    "### 7. Comente que variable escogerán como variable dependiente y que variables introducirán a su modelo."
   ]
  },
  {
   "cell_type": "markdown",
   "id": "ebaed5fa",
   "metadata": {},
   "source": [
    "En el caso de correlación positiva, el mayor valor se encuentra entre las variables: IPC y costoCombustible. Y su interpretación sería de la siguiente forma:\n",
    "\n",
    "        \"A medida que el costo de combustible aumenta, también lo hace el índice de precios al consumidor vigente\"\n"
   ]
  },
  {
   "cell_type": "markdown",
   "id": "ecd4d74b",
   "metadata": {},
   "source": [
    "### 8. Indique que tipo de modelación realizarán y porqué"
   ]
  },
  {
   "cell_type": "markdown",
   "id": "ff2f712b",
   "metadata": {},
   "source": [
    "Utilizaremos el modelo de ML Pooled OLS como base, ya que si se violan las condiciones especificadas previamente, los modelos de efectos fjos o efectos aleatorios serán más adecuados. \n"
   ]
  },
  {
   "cell_type": "code",
   "execution_count": 23,
   "id": "472196a2",
   "metadata": {},
   "outputs": [],
   "source": [
    "from linearmodels import PooledOLS\n",
    "import statsmodels.api as sm"
   ]
  },
  {
   "cell_type": "code",
   "execution_count": 24,
   "id": "6e7eb7f6",
   "metadata": {},
   "outputs": [],
   "source": [
    "X = sm.tools.tools.add_constant(df.ventas)\n",
    "y = df.IPC"
   ]
  },
  {
   "cell_type": "code",
   "execution_count": 25,
   "id": "0d06afdc",
   "metadata": {},
   "outputs": [],
   "source": [
    "modelo1 = PooledOLS(y, X)\n",
    "resultados_pooled_OLS = modelo1.fit(cov_type='clustered', cluster_entity=True)"
   ]
  },
  {
   "cell_type": "code",
   "execution_count": 26,
   "id": "f7963131",
   "metadata": {},
   "outputs": [],
   "source": [
    "# Store values for checking homoskedasticity graphically\n",
    "predicciones_pooled_OLS = resultados_pooled_OLS.predict().fitted_values\n",
    "residuos_pooled_OLS = resultados_pooled_OLS.resids"
   ]
  },
  {
   "cell_type": "code",
   "execution_count": 27,
   "id": "7b0fb0ab",
   "metadata": {},
   "outputs": [
    {
     "data": {
      "text/html": [
       "<table class=\"simpletable\">\n",
       "<caption>PooledOLS Estimation Summary</caption>\n",
       "<tr>\n",
       "  <th>Dep. Variable:</th>           <td>IPC</td>       <th>  R-squared:         </th>     <td>0.0069</td>  \n",
       "</tr>\n",
       "<tr>\n",
       "  <th>Estimator:</th>            <td>PooledOLS</td>    <th>  R-squared (Between):</th>    <td>-0.0318</td> \n",
       "</tr>\n",
       "<tr>\n",
       "  <th>No. Observations:</th>       <td>5917</td>       <th>  R-squared (Within):</th>     <td>0.0072</td>  \n",
       "</tr>\n",
       "<tr>\n",
       "  <th>Date:</th>             <td>Mon, May 22 2023</td> <th>  R-squared (Overall):</th>    <td>0.0069</td>  \n",
       "</tr>\n",
       "<tr>\n",
       "  <th>Time:</th>                 <td>21:34:41</td>     <th>  Log-likelihood     </th>   <td>-3.006e+04</td>\n",
       "</tr>\n",
       "<tr>\n",
       "  <th>Cov. Estimator:</th>       <td>Clustered</td>    <th>                     </th>        <td></td>     \n",
       "</tr>\n",
       "<tr>\n",
       "  <th></th>                          <td></td>         <th>  F-statistic:       </th>     <td>41.008</td>  \n",
       "</tr>\n",
       "<tr>\n",
       "  <th>Entities:</th>                <td>143</td>       <th>  P-value            </th>     <td>0.0000</td>  \n",
       "</tr>\n",
       "<tr>\n",
       "  <th>Avg Obs:</th>               <td>41.378</td>      <th>  Distribution:      </th>    <td>F(1,5915)</td>\n",
       "</tr>\n",
       "<tr>\n",
       "  <th>Min Obs:</th>               <td>33.000</td>      <th>                     </th>        <td></td>     \n",
       "</tr>\n",
       "<tr>\n",
       "  <th>Max Obs:</th>               <td>42.000</td>      <th>  F-statistic (robust):</th>   <td>522.50</td>  \n",
       "</tr>\n",
       "<tr>\n",
       "  <th></th>                          <td></td>         <th>  P-value            </th>     <td>0.0000</td>  \n",
       "</tr>\n",
       "<tr>\n",
       "  <th>Time periods:</th>            <td>45</td>        <th>  Distribution:      </th>    <td>F(1,5915)</td>\n",
       "</tr>\n",
       "<tr>\n",
       "  <th>Avg Obs:</th>               <td>131.49</td>      <th>                     </th>        <td></td>     \n",
       "</tr>\n",
       "<tr>\n",
       "  <th>Min Obs:</th>               <td>17.000</td>      <th>                     </th>        <td></td>     \n",
       "</tr>\n",
       "<tr>\n",
       "  <th>Max Obs:</th>               <td>143.00</td>      <th>                     </th>        <td></td>     \n",
       "</tr>\n",
       "<tr>\n",
       "  <th></th>                          <td></td>         <th>                     </th>        <td></td>     \n",
       "</tr>\n",
       "</table>\n",
       "<table class=\"simpletable\">\n",
       "<caption>Parameter Estimates</caption>\n",
       "<tr>\n",
       "     <td></td>     <th>Parameter</th> <th>Std. Err.</th> <th>T-stat</th>  <th>P-value</th> <th>Lower CI</th>   <th>Upper CI</th> \n",
       "</tr>\n",
       "<tr>\n",
       "  <th>const</th>    <td>181.12</td>    <td>0.2877</td>   <td>629.62</td>  <td>0.0000</td>   <td>180.56</td>     <td>181.68</td>  \n",
       "</tr>\n",
       "<tr>\n",
       "  <th>ventas</th> <td>-5.867e-06</td> <td>2.566e-07</td> <td>-22.858</td> <td>0.0000</td>  <td>-6.37e-06</td> <td>-5.363e-06</td>\n",
       "</tr>\n",
       "</table><br/>id: 0x17446bc9d90"
      ],
      "text/plain": [
       "                          PooledOLS Estimation Summary                          \n",
       "================================================================================\n",
       "Dep. Variable:                    IPC   R-squared:                        0.0069\n",
       "Estimator:                  PooledOLS   R-squared (Between):             -0.0318\n",
       "No. Observations:                5917   R-squared (Within):               0.0072\n",
       "Date:                Mon, May 22 2023   R-squared (Overall):              0.0069\n",
       "Time:                        21:34:41   Log-likelihood                -3.006e+04\n",
       "Cov. Estimator:             Clustered                                           \n",
       "                                        F-statistic:                      41.008\n",
       "Entities:                         143   P-value                           0.0000\n",
       "Avg Obs:                       41.378   Distribution:                  F(1,5915)\n",
       "Min Obs:                       33.000                                           \n",
       "Max Obs:                       42.000   F-statistic (robust):             522.50\n",
       "                                        P-value                           0.0000\n",
       "Time periods:                      45   Distribution:                  F(1,5915)\n",
       "Avg Obs:                       131.49                                           \n",
       "Min Obs:                       17.000                                           \n",
       "Max Obs:                       143.00                                           \n",
       "                                                                                \n",
       "                             Parameter Estimates                              \n",
       "==============================================================================\n",
       "            Parameter  Std. Err.     T-stat    P-value    Lower CI    Upper CI\n",
       "------------------------------------------------------------------------------\n",
       "const          181.12     0.2877     629.62     0.0000      180.56      181.68\n",
       "ventas     -5.867e-06  2.566e-07    -22.858     0.0000   -6.37e-06  -5.363e-06\n",
       "==============================================================================\n",
       "PanelResults, id: 0x17446bc9d90"
      ]
     },
     "execution_count": 27,
     "metadata": {},
     "output_type": "execute_result"
    }
   ],
   "source": [
    "resultados_pooled_OLS"
   ]
  },
  {
   "cell_type": "markdown",
   "id": "e99630ea",
   "metadata": {},
   "source": [
    "#### Verificación de los supuestos de la Regresión Pooled OLS"
   ]
  },
  {
   "cell_type": "markdown",
   "id": "44c1fe26",
   "metadata": {},
   "source": [
    "#### Homocedasticidad"
   ]
  },
  {
   "cell_type": "markdown",
   "id": "2c648a6e",
   "metadata": {},
   "source": [
    "Para validar este supuesto, primero graficaremos los residuos y validaremos la prueba gráfica con el test estadístico de Breusch-Pagan."
   ]
  },
  {
   "cell_type": "code",
   "execution_count": 28,
   "id": "b14d8855",
   "metadata": {},
   "outputs": [
    {
     "data": {
      "image/png": "[encoded data removed]",
      "text/plain": [
       "<Figure size 640x480 with 1 Axes>"
      ]
     },
     "metadata": {},
     "output_type": "display_data"
    }
   ],
   "source": [
    "fig, ax = plt.subplots()\n",
    "ax.scatter(predicciones_pooled_OLS, residuos_pooled_OLS)\n",
    "ax.axhline(0, color = 'r', ls = '--')\n",
    "ax.set_xlabel('Predicciones', fontsize = 15)\n",
    "ax.set_ylabel('Residuos', fontsize = 15)\n",
    "ax.set_title('Evaluación de homocedasticidad', fontsize = 18)\n",
    "plt.show()"
   ]
  },
  {
   "cell_type": "code",
   "execution_count": 29,
   "id": "3b930c7f",
   "metadata": {},
   "outputs": [],
   "source": [
    "from statsmodels.stats.diagnostic import het_breuschpagan"
   ]
  },
  {
   "cell_type": "code",
   "execution_count": 30,
   "id": "17524042",
   "metadata": {},
   "outputs": [],
   "source": [
    "pooled_OLS_df = pd.concat([df, residuos_pooled_OLS], axis=1)\n",
    "pooled_OLS_df = pooled_OLS_df.drop(['fecha'], axis = 1).fillna(0)\n",
    "X_ = sm.tools.tools.add_constant(df['ventas']).fillna(0)"
   ]
  },
  {
   "cell_type": "code",
   "execution_count": 31,
   "id": "668e9721",
   "metadata": {},
   "outputs": [
    {
     "data": {
      "text/html": [
       "<div>\n",
       "<style scoped>\n",
       "    .dataframe tbody tr th:only-of-type {\n",
       "        vertical-align: middle;\n",
       "    }\n",
       "\n",
       "    .dataframe tbody tr th {\n",
       "        vertical-align: top;\n",
       "    }\n",
       "\n",
       "    .dataframe thead th {\n",
       "        text-align: right;\n",
       "    }\n",
       "</style>\n",
       "<table border=\"1\" class=\"dataframe\">\n",
       "  <thead>\n",
       "    <tr style=\"text-align: right;\">\n",
       "      <th></th>\n",
       "      <th></th>\n",
       "      <th>ventas</th>\n",
       "      <th>festivos</th>\n",
       "      <th>temperatura</th>\n",
       "      <th>costoCombustible</th>\n",
       "      <th>IPC</th>\n",
       "      <th>desempleo</th>\n",
       "      <th>residual</th>\n",
       "    </tr>\n",
       "    <tr>\n",
       "      <th>fecha</th>\n",
       "      <th>tienda</th>\n",
       "      <th></th>\n",
       "      <th></th>\n",
       "      <th></th>\n",
       "      <th></th>\n",
       "      <th></th>\n",
       "      <th></th>\n",
       "      <th></th>\n",
       "    </tr>\n",
       "  </thead>\n",
       "  <tbody>\n",
       "    <tr>\n",
       "      <th>05-02-2010</th>\n",
       "      <th>1</th>\n",
       "      <td>1643690.90</td>\n",
       "      <td>0</td>\n",
       "      <td>42.31</td>\n",
       "      <td>2.572</td>\n",
       "      <td>211.096358</td>\n",
       "      <td>8.106</td>\n",
       "      <td>39.618821</td>\n",
       "    </tr>\n",
       "    <tr>\n",
       "      <th>12-02-2010</th>\n",
       "      <th>1</th>\n",
       "      <td>1641957.44</td>\n",
       "      <td>1</td>\n",
       "      <td>38.51</td>\n",
       "      <td>2.548</td>\n",
       "      <td>211.242170</td>\n",
       "      <td>8.106</td>\n",
       "      <td>39.754463</td>\n",
       "    </tr>\n",
       "    <tr>\n",
       "      <th>19-02-2010</th>\n",
       "      <th>1</th>\n",
       "      <td>1611968.17</td>\n",
       "      <td>0</td>\n",
       "      <td>39.93</td>\n",
       "      <td>2.514</td>\n",
       "      <td>211.289143</td>\n",
       "      <td>8.106</td>\n",
       "      <td>39.625503</td>\n",
       "    </tr>\n",
       "    <tr>\n",
       "      <th>26-02-2010</th>\n",
       "      <th>1</th>\n",
       "      <td>1409727.59</td>\n",
       "      <td>0</td>\n",
       "      <td>46.63</td>\n",
       "      <td>2.561</td>\n",
       "      <td>211.319643</td>\n",
       "      <td>8.106</td>\n",
       "      <td>38.469549</td>\n",
       "    </tr>\n",
       "    <tr>\n",
       "      <th>05-03-2010</th>\n",
       "      <th>1</th>\n",
       "      <td>1554806.68</td>\n",
       "      <td>0</td>\n",
       "      <td>46.50</td>\n",
       "      <td>2.625</td>\n",
       "      <td>211.350143</td>\n",
       "      <td>8.106</td>\n",
       "      <td>39.351162</td>\n",
       "    </tr>\n",
       "    <tr>\n",
       "      <th>...</th>\n",
       "      <th>...</th>\n",
       "      <td>...</td>\n",
       "      <td>...</td>\n",
       "      <td>...</td>\n",
       "      <td>...</td>\n",
       "      <td>...</td>\n",
       "      <td>...</td>\n",
       "      <td>...</td>\n",
       "    </tr>\n",
       "    <tr>\n",
       "      <th>28-09-2012</th>\n",
       "      <th>45</th>\n",
       "      <td>713173.95</td>\n",
       "      <td>0</td>\n",
       "      <td>64.88</td>\n",
       "      <td>3.997</td>\n",
       "      <td>192.013558</td>\n",
       "      <td>8.684</td>\n",
       "      <td>15.077100</td>\n",
       "    </tr>\n",
       "    <tr>\n",
       "      <th>05-10-2012</th>\n",
       "      <th>45</th>\n",
       "      <td>733455.07</td>\n",
       "      <td>0</td>\n",
       "      <td>64.89</td>\n",
       "      <td>3.985</td>\n",
       "      <td>192.170412</td>\n",
       "      <td>8.667</td>\n",
       "      <td>15.352934</td>\n",
       "    </tr>\n",
       "    <tr>\n",
       "      <th>12-10-2012</th>\n",
       "      <th>45</th>\n",
       "      <td>734464.36</td>\n",
       "      <td>0</td>\n",
       "      <td>54.47</td>\n",
       "      <td>4.000</td>\n",
       "      <td>192.327265</td>\n",
       "      <td>8.667</td>\n",
       "      <td>15.515708</td>\n",
       "    </tr>\n",
       "    <tr>\n",
       "      <th>19-10-2012</th>\n",
       "      <th>45</th>\n",
       "      <td>718125.53</td>\n",
       "      <td>0</td>\n",
       "      <td>56.47</td>\n",
       "      <td>3.969</td>\n",
       "      <td>192.330854</td>\n",
       "      <td>8.667</td>\n",
       "      <td>15.423445</td>\n",
       "    </tr>\n",
       "    <tr>\n",
       "      <th>26-10-2012</th>\n",
       "      <th>45</th>\n",
       "      <td>760281.43</td>\n",
       "      <td>0</td>\n",
       "      <td>58.85</td>\n",
       "      <td>3.882</td>\n",
       "      <td>192.308899</td>\n",
       "      <td>8.667</td>\n",
       "      <td>15.648799</td>\n",
       "    </tr>\n",
       "  </tbody>\n",
       "</table>\n",
       "<p>5917 rows × 7 columns</p>\n",
       "</div>"
      ],
      "text/plain": [
       "                       ventas  festivos  temperatura  costoCombustible  \\\n",
       "fecha      tienda                                                        \n",
       "05-02-2010 1       1643690.90         0        42.31             2.572   \n",
       "12-02-2010 1       1641957.44         1        38.51             2.548   \n",
       "19-02-2010 1       1611968.17         0        39.93             2.514   \n",
       "26-02-2010 1       1409727.59         0        46.63             2.561   \n",
       "05-03-2010 1       1554806.68         0        46.50             2.625   \n",
       "...                       ...       ...          ...               ...   \n",
       "28-09-2012 45       713173.95         0        64.88             3.997   \n",
       "05-10-2012 45       733455.07         0        64.89             3.985   \n",
       "12-10-2012 45       734464.36         0        54.47             4.000   \n",
       "19-10-2012 45       718125.53         0        56.47             3.969   \n",
       "26-10-2012 45       760281.43         0        58.85             3.882   \n",
       "\n",
       "                          IPC  desempleo   residual  \n",
       "fecha      tienda                                    \n",
       "05-02-2010 1       211.096358      8.106  39.618821  \n",
       "12-02-2010 1       211.242170      8.106  39.754463  \n",
       "19-02-2010 1       211.289143      8.106  39.625503  \n",
       "26-02-2010 1       211.319643      8.106  38.469549  \n",
       "05-03-2010 1       211.350143      8.106  39.351162  \n",
       "...                       ...        ...        ...  \n",
       "28-09-2012 45      192.013558      8.684  15.077100  \n",
       "05-10-2012 45      192.170412      8.667  15.352934  \n",
       "12-10-2012 45      192.327265      8.667  15.515708  \n",
       "19-10-2012 45      192.330854      8.667  15.423445  \n",
       "26-10-2012 45      192.308899      8.667  15.648799  \n",
       "\n",
       "[5917 rows x 7 columns]"
      ]
     },
     "execution_count": 31,
     "metadata": {},
     "output_type": "execute_result"
    }
   ],
   "source": [
    "pooled_OLS_df"
   ]
  },
  {
   "cell_type": "code",
   "execution_count": 32,
   "id": "97c6630a",
   "metadata": {},
   "outputs": [
    {
     "name": "stdout",
     "output_type": "stream",
     "text": [
      "{'LM-Stat': 2.4181741907424517, 'LM p-val': 0.11993464498520046, 'F-Stat': 2.4183451610774713, 'F p-val': 0.11997505402806653}\n"
     ]
    }
   ],
   "source": [
    "breusch_pagan = het_breuschpagan(pooled_OLS_df.residual, X_)\n",
    "labels = ['LM-Stat', 'LM p-val', 'F-Stat', 'F p-val'] \n",
    "print(dict(zip(labels, breusch_pagan)))"
   ]
  },
  {
   "cell_type": "markdown",
   "id": "9640576e",
   "metadata": {},
   "source": [
    "#### No- autocorrelación"
   ]
  },
  {
   "cell_type": "code",
   "execution_count": 33,
   "id": "99194aa5",
   "metadata": {},
   "outputs": [],
   "source": [
    "from statsmodels.stats.stattools import durbin_watson"
   ]
  },
  {
   "cell_type": "code",
   "execution_count": 34,
   "id": "394e894b",
   "metadata": {},
   "outputs": [
    {
     "name": "stdout",
     "output_type": "stream",
     "text": [
      "0.01670885423198969\n"
     ]
    }
   ],
   "source": [
    "durbin_watson = durbin_watson(pooled_OLS_df.residual) \n",
    "print(durbin_watson)"
   ]
  },
  {
   "cell_type": "markdown",
   "id": "fcf15ab9",
   "metadata": {},
   "source": [
    "En nuestro ejercicio, el resultado es 0.0167, lo que indica claramente una fuerte autocorrelación positiva, violándose el supuesto"
   ]
  },
  {
   "cell_type": "markdown",
   "id": "edca2149",
   "metadata": {},
   "source": [
    "Como las dos secciones del tercer supuesto fueron contradichas, a seguir exploraremos los modelos de efectos fijos y efectos aleatorios:"
   ]
  },
  {
   "cell_type": "markdown",
   "id": "10283694",
   "metadata": {},
   "source": [
    "### 9. Obtenga el modelo definitivo, prediga los valores y comente el grado de ajuste del modelo"
   ]
  },
  {
   "cell_type": "markdown",
   "id": "ccba4ac9",
   "metadata": {},
   "source": [
    "#### Modelo de Efectos Fijos \"fixed effects\""
   ]
  },
  {
   "cell_type": "code",
   "execution_count": 35,
   "id": "733ae079",
   "metadata": {},
   "outputs": [],
   "source": [
    "from linearmodels import PanelOLS"
   ]
  },
  {
   "cell_type": "code",
   "execution_count": 36,
   "id": "4ee81810",
   "metadata": {},
   "outputs": [],
   "source": [
    "modelo_fe = PanelOLS(y, X, entity_effects = True)\n",
    "resultados_fe = modelo_fe.fit()"
   ]
  },
  {
   "cell_type": "code",
   "execution_count": 37,
   "id": "326677cd",
   "metadata": {},
   "outputs": [
    {
     "data": {
      "text/html": [
       "<table class=\"simpletable\">\n",
       "<caption>PanelOLS Estimation Summary</caption>\n",
       "<tr>\n",
       "  <th>Dep. Variable:</th>           <td>IPC</td>       <th>  R-squared:         </th>     <td>0.0072</td>  \n",
       "</tr>\n",
       "<tr>\n",
       "  <th>Estimator:</th>            <td>PanelOLS</td>     <th>  R-squared (Between):</th>    <td>-0.0332</td> \n",
       "</tr>\n",
       "<tr>\n",
       "  <th>No. Observations:</th>       <td>5917</td>       <th>  R-squared (Within):</th>     <td>0.0072</td>  \n",
       "</tr>\n",
       "<tr>\n",
       "  <th>Date:</th>             <td>Mon, May 22 2023</td> <th>  R-squared (Overall):</th>    <td>0.0069</td>  \n",
       "</tr>\n",
       "<tr>\n",
       "  <th>Time:</th>                 <td>21:43:12</td>     <th>  Log-likelihood     </th>   <td>-3.003e+04</td>\n",
       "</tr>\n",
       "<tr>\n",
       "  <th>Cov. Estimator:</th>      <td>Unadjusted</td>    <th>                     </th>        <td></td>     \n",
       "</tr>\n",
       "<tr>\n",
       "  <th></th>                          <td></td>         <th>  F-statistic:       </th>     <td>41.858</td>  \n",
       "</tr>\n",
       "<tr>\n",
       "  <th>Entities:</th>                <td>143</td>       <th>  P-value            </th>     <td>0.0000</td>  \n",
       "</tr>\n",
       "<tr>\n",
       "  <th>Avg Obs:</th>               <td>41.378</td>      <th>  Distribution:      </th>    <td>F(1,5773)</td>\n",
       "</tr>\n",
       "<tr>\n",
       "  <th>Min Obs:</th>               <td>33.000</td>      <th>                     </th>        <td></td>     \n",
       "</tr>\n",
       "<tr>\n",
       "  <th>Max Obs:</th>               <td>42.000</td>      <th>  F-statistic (robust):</th>   <td>41.858</td>  \n",
       "</tr>\n",
       "<tr>\n",
       "  <th></th>                          <td></td>         <th>  P-value            </th>     <td>0.0000</td>  \n",
       "</tr>\n",
       "<tr>\n",
       "  <th>Time periods:</th>            <td>45</td>        <th>  Distribution:      </th>    <td>F(1,5773)</td>\n",
       "</tr>\n",
       "<tr>\n",
       "  <th>Avg Obs:</th>               <td>131.49</td>      <th>                     </th>        <td></td>     \n",
       "</tr>\n",
       "<tr>\n",
       "  <th>Min Obs:</th>               <td>17.000</td>      <th>                     </th>        <td></td>     \n",
       "</tr>\n",
       "<tr>\n",
       "  <th>Max Obs:</th>               <td>143.00</td>      <th>                     </th>        <td></td>     \n",
       "</tr>\n",
       "<tr>\n",
       "  <th></th>                          <td></td>         <th>                     </th>        <td></td>     \n",
       "</tr>\n",
       "</table>\n",
       "<table class=\"simpletable\">\n",
       "<caption>Parameter Estimates</caption>\n",
       "<tr>\n",
       "     <td></td>     <th>Parameter</th> <th>Std. Err.</th> <th>T-stat</th>  <th>P-value</th>  <th>Lower CI</th>   <th>Upper CI</th> \n",
       "</tr>\n",
       "<tr>\n",
       "  <th>const</th>    <td>181.30</td>    <td>1.0954</td>   <td>165.51</td>  <td>0.0000</td>    <td>179.15</td>     <td>183.44</td>  \n",
       "</tr>\n",
       "<tr>\n",
       "  <th>ventas</th> <td>-6.036e-06</td> <td>9.33e-07</td>  <td>-6.4698</td> <td>0.0000</td>  <td>-7.865e-06</td> <td>-4.207e-06</td>\n",
       "</tr>\n",
       "</table><br/><br/>F-test for Poolability: 0.3635<br/>P-value: 1.0000<br/>Distribution: F(142,5773)<br/><br/>Included effects: Entity<br/>id: 0x17446c5ed60"
      ],
      "text/plain": [
       "                          PanelOLS Estimation Summary                           \n",
       "================================================================================\n",
       "Dep. Variable:                    IPC   R-squared:                        0.0072\n",
       "Estimator:                   PanelOLS   R-squared (Between):             -0.0332\n",
       "No. Observations:                5917   R-squared (Within):               0.0072\n",
       "Date:                Mon, May 22 2023   R-squared (Overall):              0.0069\n",
       "Time:                        21:43:12   Log-likelihood                -3.003e+04\n",
       "Cov. Estimator:            Unadjusted                                           \n",
       "                                        F-statistic:                      41.858\n",
       "Entities:                         143   P-value                           0.0000\n",
       "Avg Obs:                       41.378   Distribution:                  F(1,5773)\n",
       "Min Obs:                       33.000                                           \n",
       "Max Obs:                       42.000   F-statistic (robust):             41.858\n",
       "                                        P-value                           0.0000\n",
       "Time periods:                      45   Distribution:                  F(1,5773)\n",
       "Avg Obs:                       131.49                                           \n",
       "Min Obs:                       17.000                                           \n",
       "Max Obs:                       143.00                                           \n",
       "                                                                                \n",
       "                             Parameter Estimates                              \n",
       "==============================================================================\n",
       "            Parameter  Std. Err.     T-stat    P-value    Lower CI    Upper CI\n",
       "------------------------------------------------------------------------------\n",
       "const          181.30     1.0954     165.51     0.0000      179.15      183.44\n",
       "ventas     -6.036e-06   9.33e-07    -6.4698     0.0000  -7.865e-06  -4.207e-06\n",
       "==============================================================================\n",
       "\n",
       "F-test for Poolability: 0.3635\n",
       "P-value: 1.0000\n",
       "Distribution: F(142,5773)\n",
       "\n",
       "Included effects: Entity\n",
       "PanelEffectsResults, id: 0x17446c5ed60"
      ]
     },
     "execution_count": 37,
     "metadata": {},
     "output_type": "execute_result"
    }
   ],
   "source": [
    "resultados_fe"
   ]
  },
  {
   "cell_type": "markdown",
   "id": "c7b9e8be",
   "metadata": {},
   "source": [
    "#### Modelo de Efectos Aleatorios \"random effects\""
   ]
  },
  {
   "cell_type": "code",
   "execution_count": 38,
   "id": "593057e0",
   "metadata": {},
   "outputs": [],
   "source": [
    "from linearmodels import RandomEffects"
   ]
  },
  {
   "cell_type": "code",
   "execution_count": 39,
   "id": "c73e8dea",
   "metadata": {},
   "outputs": [],
   "source": [
    "modelo_re = RandomEffects(y, X)\n",
    "resultados_re = modelo_re.fit()"
   ]
  },
  {
   "cell_type": "code",
   "execution_count": 40,
   "id": "e7a8ac0f",
   "metadata": {},
   "outputs": [
    {
     "data": {
      "text/html": [
       "<table class=\"simpletable\">\n",
       "<caption>RandomEffects Estimation Summary</caption>\n",
       "<tr>\n",
       "  <th>Dep. Variable:</th>           <td>IPC</td>       <th>  R-squared:         </th>     <td>0.0069</td>  \n",
       "</tr>\n",
       "<tr>\n",
       "  <th>Estimator:</th>          <td>RandomEffects</td>  <th>  R-squared (Between):</th>    <td>-0.0318</td> \n",
       "</tr>\n",
       "<tr>\n",
       "  <th>No. Observations:</th>       <td>5917</td>       <th>  R-squared (Within):</th>     <td>0.0072</td>  \n",
       "</tr>\n",
       "<tr>\n",
       "  <th>Date:</th>             <td>Mon, May 22 2023</td> <th>  R-squared (Overall):</th>    <td>0.0069</td>  \n",
       "</tr>\n",
       "<tr>\n",
       "  <th>Time:</th>                 <td>21:43:50</td>     <th>  Log-likelihood     </th>   <td>-3.006e+04</td>\n",
       "</tr>\n",
       "<tr>\n",
       "  <th>Cov. Estimator:</th>      <td>Unadjusted</td>    <th>                     </th>        <td></td>     \n",
       "</tr>\n",
       "<tr>\n",
       "  <th></th>                          <td></td>         <th>  F-statistic:       </th>     <td>41.008</td>  \n",
       "</tr>\n",
       "<tr>\n",
       "  <th>Entities:</th>                <td>143</td>       <th>  P-value            </th>     <td>0.0000</td>  \n",
       "</tr>\n",
       "<tr>\n",
       "  <th>Avg Obs:</th>               <td>41.378</td>      <th>  Distribution:      </th>    <td>F(1,5915)</td>\n",
       "</tr>\n",
       "<tr>\n",
       "  <th>Min Obs:</th>               <td>33.000</td>      <th>                     </th>        <td></td>     \n",
       "</tr>\n",
       "<tr>\n",
       "  <th>Max Obs:</th>               <td>42.000</td>      <th>  F-statistic (robust):</th>   <td>41.008</td>  \n",
       "</tr>\n",
       "<tr>\n",
       "  <th></th>                          <td></td>         <th>  P-value            </th>     <td>0.0000</td>  \n",
       "</tr>\n",
       "<tr>\n",
       "  <th>Time periods:</th>            <td>45</td>        <th>  Distribution:      </th>    <td>F(1,5915)</td>\n",
       "</tr>\n",
       "<tr>\n",
       "  <th>Avg Obs:</th>               <td>131.49</td>      <th>                     </th>        <td></td>     \n",
       "</tr>\n",
       "<tr>\n",
       "  <th>Min Obs:</th>               <td>17.000</td>      <th>                     </th>        <td></td>     \n",
       "</tr>\n",
       "<tr>\n",
       "  <th>Max Obs:</th>               <td>143.00</td>      <th>                     </th>        <td></td>     \n",
       "</tr>\n",
       "<tr>\n",
       "  <th></th>                          <td></td>         <th>                     </th>        <td></td>     \n",
       "</tr>\n",
       "</table>\n",
       "<table class=\"simpletable\">\n",
       "<caption>Parameter Estimates</caption>\n",
       "<tr>\n",
       "     <td></td>     <th>Parameter</th> <th>Std. Err.</th> <th>T-stat</th>  <th>P-value</th>  <th>Lower CI</th>   <th>Upper CI</th> \n",
       "</tr>\n",
       "<tr>\n",
       "  <th>const</th>    <td>181.12</td>    <td>1.0780</td>   <td>168.01</td>  <td>0.0000</td>    <td>179.01</td>     <td>183.23</td>  \n",
       "</tr>\n",
       "<tr>\n",
       "  <th>ventas</th> <td>-5.867e-06</td> <td>9.161e-07</td> <td>-6.4037</td> <td>0.0000</td>  <td>-7.662e-06</td> <td>-4.071e-06</td>\n",
       "</tr>\n",
       "</table><br/>id: 0x17446c7b400"
      ],
      "text/plain": [
       "                        RandomEffects Estimation Summary                        \n",
       "================================================================================\n",
       "Dep. Variable:                    IPC   R-squared:                        0.0069\n",
       "Estimator:              RandomEffects   R-squared (Between):             -0.0318\n",
       "No. Observations:                5917   R-squared (Within):               0.0072\n",
       "Date:                Mon, May 22 2023   R-squared (Overall):              0.0069\n",
       "Time:                        21:43:50   Log-likelihood                -3.006e+04\n",
       "Cov. Estimator:            Unadjusted                                           \n",
       "                                        F-statistic:                      41.008\n",
       "Entities:                         143   P-value                           0.0000\n",
       "Avg Obs:                       41.378   Distribution:                  F(1,5915)\n",
       "Min Obs:                       33.000                                           \n",
       "Max Obs:                       42.000   F-statistic (robust):             41.008\n",
       "                                        P-value                           0.0000\n",
       "Time periods:                      45   Distribution:                  F(1,5915)\n",
       "Avg Obs:                       131.49                                           \n",
       "Min Obs:                       17.000                                           \n",
       "Max Obs:                       143.00                                           \n",
       "                                                                                \n",
       "                             Parameter Estimates                              \n",
       "==============================================================================\n",
       "            Parameter  Std. Err.     T-stat    P-value    Lower CI    Upper CI\n",
       "------------------------------------------------------------------------------\n",
       "const          181.12     1.0780     168.01     0.0000      179.01      183.23\n",
       "ventas     -5.867e-06  9.161e-07    -6.4037     0.0000  -7.662e-06  -4.071e-06\n",
       "==============================================================================\n",
       "RandomEffectsResults, id: 0x17446c7b400"
      ]
     },
     "execution_count": 40,
     "metadata": {},
     "output_type": "execute_result"
    }
   ],
   "source": [
    "resultados_re"
   ]
  },
  {
   "cell_type": "markdown",
   "id": "42d84ab2",
   "metadata": {},
   "source": [
    "Como ambos modelos devuelven resultados similares, para seleccionar el modelo, aplicaremos el test de Hausman."
   ]
  },
  {
   "cell_type": "code",
   "execution_count": 41,
   "id": "2adf7b0b",
   "metadata": {},
   "outputs": [],
   "source": [
    "import numpy.linalg as la\n",
    "from scipy import stats\n",
    "import numpy as np"
   ]
  },
  {
   "cell_type": "code",
   "execution_count": 42,
   "id": "e693f1cc",
   "metadata": {},
   "outputs": [],
   "source": [
    "def hausman(fe, re):\n",
    "    b = fe.params\n",
    "    B = re.params\n",
    "    v_b = fe.cov\n",
    "    v_B = re.cov\n",
    "    df = b[np.abs(b) < 1e8].size\n",
    "    chi2 = np.dot((b - B).T, la.inv(v_b - v_B).dot(b - B)) \n",
    " \n",
    "    pval = stats.chi2.sf(chi2, df)\n",
    "    return chi2, df, pval"
   ]
  },
  {
   "cell_type": "code",
   "execution_count": 43,
   "id": "26130be1",
   "metadata": {},
   "outputs": [],
   "source": [
    "hausman = hausman(resultados_fe, resultados_re) "
   ]
  },
  {
   "cell_type": "code",
   "execution_count": 44,
   "id": "4ec0111c",
   "metadata": {},
   "outputs": [
    {
     "name": "stdout",
     "output_type": "stream",
     "text": [
      "chi-Squared: 0.9227580629949672\n",
      "degrees of freedom: 2\n",
      "p-Value:0.6304136854649444\n"
     ]
    }
   ],
   "source": [
    "print('chi-Squared: ' + str(hausman[0]))\n",
    "print('degrees of freedom: ' + str(hausman[1]))\n",
    "print('p-Value:' + str(hausman[2]))"
   ]
  }
 ],
 "metadata": {
  "kernelspec": {
   "display_name": "Python 3 (ipykernel)",
   "language": "python",
   "name": "python3"
  },
  "language_info": {
   "codemirror_mode": {
    "name": "ipython",
    "version": 3
   },
   "file_extension": ".py",
   "mimetype": "text/x-python",
   "name": "python",
   "nbconvert_exporter": "python",
   "pygments_lexer": "ipython3",
   "version": "3.9.13"
  }
 },
 "nbformat": 4,
 "nbformat_minor": 5
}
